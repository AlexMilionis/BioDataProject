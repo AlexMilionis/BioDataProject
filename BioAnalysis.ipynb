{
 "cells": [
  {
   "cell_type": "markdown",
   "id": "0fb21ca4",
   "metadata": {
    "heading_collapsed": true,
    "id": "0fb21ca4"
   },
   "source": [
    "# TODO"
   ]
  },
  {
   "cell_type": "markdown",
   "id": "746896fc",
   "metadata": {
    "hidden": true,
    "id": "746896fc"
   },
   "source": [
    "Intro\n",
    "- EDA (correlation matrix) ; fouskakis\n",
    "\n",
    "Dataset\n",
    "- add more columns from codebook\n",
    "\n",
    "Features\n",
    "- bmi, weight, height, bmi_group -> avoid multicollinearity\n",
    "- scaler to columns: height, weight, bmi\n",
    "- correlation matrix to drop highly correlated features, threshold = 0.75\n",
    "- feature importance analysis\n",
    "- one hot encoding to categorical columns\n",
    "- reduce number of features -> PCA\n",
    "\n",
    "Balance data\n",
    "- explore ways to balance data\n",
    "- SMOTE\n",
    "- oversample minority class?\n",
    "- undersample majority class?\n",
    "- anomaly detection?\n",
    "- Merge prediabetics with diabetics\n",
    "\n",
    "Model\n",
    "- explore classifiers\n",
    "- grid search -> find best\n",
    "- model explainability\n",
    "\n",
    "Extra\n",
    "- further research -> kaggle notebooks\n",
    "- counterfactual explanations\n",
    "\n",
    "\n",
    "Links<br>\n",
    "https://archive.ics.uci.edu/dataset/891/cdc+diabetes+health+indicators<br>\n",
    "https://www.kaggle.com/datasets/alexteboul/diabetes-health-indicators-dataset<br>\n",
    "https://www.cdc.gov/brfss/annual_data/2015/pdf/codebook15_llcp.pdf<br>\n",
    "https://www.kaggle.com/datasets/cdc/behavioral-risk-factor-surveillance-system/data<br>\n",
    "https://www.cdc.gov/pcd/issues/2019/19_0109.htm<br>\n",
    "https://www.kaggle.com/code/alexteboul/diabetes-health-indicators-dataset-notebook<br>"
   ]
  },
  {
   "cell_type": "markdown",
   "id": "f4d967ba",
   "metadata": {
    "heading_collapsed": true,
    "id": "f4d967ba"
   },
   "source": [
    "# Info"
   ]
  },
  {
   "cell_type": "markdown",
   "id": "f9e16678",
   "metadata": {
    "hidden": true,
    "id": "f9e16678"
   },
   "source": [
    "- Έγιναν drop columns που αφορούσαν ερωτήσεις σε άτομα που ήδη έχουν διαβήτη, καθώς και η στήλη prediabetes.\n",
    "- Αφαιρέθηκαν τα rows με διαβήτη τύπου 1, ο οποίο είναι αυτοάνοσο νόσημα.<br>\n",
    "0: no diabetes, or only during pregnancy<br>\n",
    "1: prediabetes<br>\n",
    "2: diabetes"
   ]
  },
  {
   "cell_type": "markdown",
   "id": "5d96139c",
   "metadata": {
    "heading_collapsed": true,
    "id": "5d96139c"
   },
   "source": [
    "# Imports"
   ]
  },
  {
   "cell_type": "code",
   "execution_count": 25,
   "id": "1fb2ee70",
   "metadata": {
    "executionInfo": {
     "elapsed": 3466,
     "status": "ok",
     "timestamp": 1714416333283,
     "user": {
      "displayName": "Ioanna Malli",
      "userId": "18411502183220972552"
     },
     "user_tz": -180
    },
    "hidden": true,
    "id": "1fb2ee70"
   },
   "outputs": [],
   "source": [
    "import pandas as pd\n",
    "import numpy as np\n",
    "from math import floor\n",
    "from sklearn.ensemble import RandomForestClassifier\n",
    "from imblearn.ensemble import BalancedRandomForestClassifier\n",
    "from sklearn.model_selection import train_test_split\n",
    "from sklearn.metrics import classification_report\n",
    "from sklearn.linear_model import LogisticRegression\n",
    "from sklearn.pipeline import Pipeline\n",
    "from sklearn.base import TransformerMixin, BaseEstimator\n",
    "import matplotlib.pyplot as plt\n",
    "from sklearn.metrics import confusion_matrix, ConfusionMatrixDisplay\n",
    "import seaborn as sns\n",
    "from xgboost import XGBClassifier\n",
    "from imblearn.over_sampling import SMOTE # ioanna addition\n",
    "from imblearn.under_sampling import RandomUnderSampler #undersampler\n",
    "from imblearn.under_sampling import TomekLinks # undersampler\n",
    "from sklearn.preprocessing import StandardScaler, OneHotEncoder\n",
    "from sklearn.compose import ColumnTransformer\n",
    "from sklearn import set_config\n",
    "set_config(transform_output = 'pandas')\n",
    "from sklearn.decomposition import PCA"
   ]
  },
  {
   "cell_type": "code",
   "execution_count": 26,
   "id": "77280cbe",
   "metadata": {
    "executionInfo": {
     "elapsed": 370,
     "status": "ok",
     "timestamp": 1714416407750,
     "user": {
      "displayName": "Ioanna Malli",
      "userId": "18411502183220972552"
     },
     "user_tz": -180
    },
    "hidden": true,
    "id": "77280cbe"
   },
   "outputs": [],
   "source": [
    "path = 'Data/'"
   ]
  },
  {
   "cell_type": "code",
   "execution_count": 27,
   "id": "7b8902bb",
   "metadata": {
    "colab": {
     "base_uri": "https://localhost:8080/"
    },
    "executionInfo": {
     "elapsed": 2046,
     "status": "ok",
     "timestamp": 1714416412155,
     "user": {
      "displayName": "Ioanna Malli",
      "userId": "18411502183220972552"
     },
     "user_tz": -180
    },
    "hidden": true,
    "id": "7b8902bb",
    "outputId": "ec182784-1cfa-4c82-b661-ec1c8d98b322"
   },
   "outputs": [],
   "source": [
    "# inputs = pd.read_csv(path + 'diabetes_dataset.csv')\n",
    "inputs = pd.read_csv(path + 'diabetes_dataset.csv')"
   ]
  },
  {
   "cell_type": "markdown",
   "id": "dd92ee68",
   "metadata": {
    "id": "dd92ee68"
   },
   "source": [
    "# EDA"
   ]
  },
  {
   "cell_type": "markdown",
   "id": "23e92be3",
   "metadata": {
    "id": "23e92be3"
   },
   "source": [
    "# Preprocessing"
   ]
  },
  {
   "cell_type": "markdown",
   "id": "d82d313e",
   "metadata": {},
   "source": [
    "## DatasetPreprocessor"
   ]
  },
  {
   "cell_type": "code",
   "execution_count": 43,
   "id": "tbyERrLOIJw-",
   "metadata": {
    "executionInfo": {
     "elapsed": 306,
     "status": "ok",
     "timestamp": 1714416418502,
     "user": {
      "displayName": "Ioanna Malli",
      "userId": "18411502183220972552"
     },
     "user_tz": -180
    },
    "id": "tbyERrLOIJw-"
   },
   "outputs": [],
   "source": [
    "class DatasetPreprocessor:\n",
    "    def __init__(self, raw, info):\n",
    "        self.data = raw.copy()\n",
    "        self.label_name = 'diabetes'\n",
    "        self.numerical_features = ['sleep_time', 'bmi', 'height', 'weight']\n",
    "        self.categorical_features = list(set(self.data.columns) - set(self.numerical_features) - set([self.label_name]))\n",
    "        self.info = info\n",
    "        \n",
    "    def convert_type(self):\n",
    "        for col in self.categorical_features:\n",
    "            self.data[col] = self.data[col].astype('category')\n",
    "\n",
    "    def extract_labels(self, train=False):\n",
    "        if train:\n",
    "            self.train_labels = self.train_data[[self.label_name]].to_numpy().flatten()\n",
    "        else:\n",
    "            self.labels = self.data[[self.label_name]].to_numpy().flatten()\n",
    "\n",
    "    def remove_labels(self):\n",
    "        self.data.drop([self.label_name], axis=1, inplace=True)\n",
    "\n",
    "    def remove_cols(self, cols_to_drop):\n",
    "        numerical_drops, categorical_drops = [],[]\n",
    "        for col in cols_to_drop:\n",
    "            if col in self.numerical_features:\n",
    "                numerical_drops.append(col)\n",
    "            else:\n",
    "                categorical_drops.append(col)\n",
    "        self.numerical_features = list(set(self.numerical_features)-set(numerical_drops))\n",
    "        self.categorical_features = list(set(self.categorical_features)-set(categorical_drops)) \n",
    "        self.data.drop(cols_to_drop, axis=1, inplace=True)\n",
    "\n",
    "    def remove_rows(self, column, column_value):\n",
    "        self.data = self.data[self.data[column]!=column_value]\n",
    "        \n",
    "    @staticmethod\n",
    "    def class_frequencies(data, labels):\n",
    "        _ , class_samples = np.unique(labels, return_counts=True)\n",
    "        class_freq = class_samples/len(data)\n",
    "        return class_freq\n",
    "    \n",
    "    @staticmethod\n",
    "    def binary_labels(labels):\n",
    "        labels[labels == 2] = 1\n",
    "        return labels\n",
    "        \n",
    "    def DatasetPreprocessorPipeline(self):\n",
    "        self.remove_rows(column = 'diabetes_type', column_value = 1)\n",
    "        self.remove_cols(['diabetes_type','currently_insulin','hemoglobin','eye_exam','eye_photo','diabetes_education',\n",
    "                         'sore_feet','prediabetes'])\n",
    "        self.extract_labels()\n",
    "        if self.info['binary_classification']:\n",
    "            self.labels = self.binary_labels(self.labels)\n",
    "        self.remove_labels()\n",
    "        self.convert_type()"
   ]
  },
  {
   "cell_type": "markdown",
   "id": "cc90ef63",
   "metadata": {},
   "source": [
    "## ModelPreprocessor"
   ]
  },
  {
   "cell_type": "code",
   "execution_count": 55,
   "id": "4Y5rwwBTTqVC",
   "metadata": {
    "executionInfo": {
     "elapsed": 311,
     "status": "ok",
     "timestamp": 1714416465918,
     "user": {
      "displayName": "Ioanna Malli",
      "userId": "18411502183220972552"
     },
     "user_tz": -180
    },
    "id": "4Y5rwwBTTqVC"
   },
   "outputs": [],
   "source": [
    "class ModelPreprocessor(DatasetPreprocessor):\n",
    "    def __init__(self, raw, info):\n",
    "        super().__init__(raw, info)\n",
    "        self.info = info\n",
    "        self.random_state = self.info['random_state']\n",
    "    \n",
    "    def split(self, stratify=True):\n",
    "        stratify_labels = self.labels if stratify else None\n",
    "        self.train_data, self.test_data, self.train_labels, self.test_labels = train_test_split(\n",
    "            self.data,\n",
    "            self.labels,\n",
    "            test_size=self.info['test_size'],\n",
    "            random_state=self.random_state,\n",
    "            stratify=stratify_labels\n",
    "        )\n",
    "    \n",
    "    def apply_onehot(self):\n",
    "        self.data = pd.get_dummies(self.data, drop_first=True)\n",
    "        \n",
    "    def run_smote(self):\n",
    "        smote = SMOTE(random_state=self.random_state)\n",
    "        self.train_data, self.train_labels = self.smote.fit_resample(self.train_data, self.train_labels)\n",
    "        \n",
    "    def run_undersampling(self):\n",
    "        sampling_strategy = {\n",
    "          0: floor(len(self.train_labels[self.train_labels == 0]) / 3*0.75),\n",
    "          1: floor(len(self.train_labels[self.train_labels == 1])*0.75),\n",
    "          2: floor(len(self.train_labels[self.train_labels == 2])*0.75)\n",
    "          }\n",
    "        undersampler = RandomUnderSampler(sampling_strategy=sampling_strategy)\n",
    "        self.train_data, self.train_labels = undersampler.fit_resample(self.train_data, self.train_labels)\n",
    "        \n",
    "    def run_equal_sampling(self):\n",
    "        labels_series = pd.Series(self.train_labels, name=self.label_name)\n",
    "        min_class_size  = labels_series.value_counts().min()\n",
    "\n",
    "        # Sample from each class\n",
    "        balanced_indices = []\n",
    "        for label in np.unique(self.train_labels):\n",
    "            # Find indices of each class label\n",
    "            class_indices = labels_series[labels_series == label].index\n",
    "            # Sample indices of this class\n",
    "            sampled_indices = np.random.choice(class_indices, size=min_class_size, replace=False)\n",
    "            balanced_indices.extend(sampled_indices)\n",
    "\n",
    "        # Use the sampled indices to select rows from train_data\n",
    "        self.train_data = self.train_data.iloc[balanced_indices]\n",
    "        self.train_labels = self.train_labels[balanced_indices]\n",
    "        \n",
    "    def run_rare_class_sampling(self):\n",
    "        class_freq = self.class_frequencies(self.train_data, self.train_labels) \n",
    "        T = self.info['RCS']['T']\n",
    "        num_samples = self.info['RCS']['num_samples']\n",
    "        probs = np.exp((1 - class_freq) / T)\n",
    "        probs /= probs.sum()\n",
    "        probs_to_labels = {}\n",
    "        for i in range(len(probs)):\n",
    "            probs_to_labels[i] = probs[i]\n",
    "        sample_weights = pd.Series(self.train_labels).map(probs_to_labels)\n",
    "\n",
    "        sampled_indices = np.random.choice(\n",
    "            a=len(self.train_labels), \n",
    "            size=num_samples, \n",
    "            replace=False, \n",
    "            p=sample_weights / sample_weights.sum()\n",
    "        )\n",
    "\n",
    "        # Subset the train_data and train_labels using the sampled indices\n",
    "        self.train_data = self.train_data.iloc[sampled_indices]\n",
    "        self.train_labels = self.train_labels[sampled_indices]\n",
    "        \n",
    "    def shuffle_data(self):\n",
    "        shuffle_indices = np.random.permutation(len(self.train_data))\n",
    "        self.train_data = self.train_data.iloc[shuffle_indices].reset_index(drop=True)\n",
    "        self.train_labels = self.train_labels[shuffle_indices]\n",
    "        \n",
    "    def data_balancing(self):\n",
    "        # RESAMPLE MUST BE DONE ONLY ON TRAIN DATA\n",
    "        if self.info['balancing_method']==None:\n",
    "            pass\n",
    "        \n",
    "        # ---SMOTE---\n",
    "        if self.info['balancing_method']=='smote':\n",
    "            self.run_smote()\n",
    "            \n",
    "        # ---UNDERSAMPLING----\n",
    "        if self.info['balancing_method']=='undersampling':\n",
    "            self.run_undersampling()\n",
    "\n",
    "        # ---EQUAL NUMBER OF LABELS PER CLASS---\n",
    "        if self.info['balancing_method']=='equal':\n",
    "            self.run_equal_sampling()\n",
    "            self.shuffle_data()\n",
    "            \n",
    "        # ---RARE CLASS SAMPLING---\n",
    "        if self.info['balancing_method']=='RCS':\n",
    "            self.run_rare_class_sampling()\n",
    "            self.shuffle_data()\n",
    "\n",
    "    def apply_transformations(self, datatype):\n",
    "        if datatype=='train':    \n",
    "            if self.info['apply_scaler']:\n",
    "                self.scaler = StandardScaler()\n",
    "                self.train_data[self.numerical_features] = self.scaler.fit_transform(self.train_data[self.numerical_features])\n",
    "            if self.info['apply_pca']:\n",
    "                self.pca = PCA(n_components=self.info['pca_components'])\n",
    "                self.train_data = self.pca.fit_transform(self.train_data)\n",
    "                print(f'Explained Variance Ratio: {np.sum(self.pca.explained_variance_ratio_)}')\n",
    "        elif datatype=='test':\n",
    "            if self.info['apply_scaler']:\n",
    "                self.test_data[self.numerical_features] = self.scaler.transform(self.test_data[self.numerical_features])\n",
    "            if self.info['apply_pca']:\n",
    "                self.test_data = self.pca.transform(self.test_data)\n",
    "        \n",
    "        \n",
    "    def ModelPreprocessorPipeline(self):\n",
    "        self.DatasetPreprocessorPipeline()\n",
    "        if self.info['apply_onehot']:\n",
    "            self.apply_onehot()\n",
    "        self.split()\n",
    "        self.data_balancing()\n",
    "        self.apply_transformations(datatype='train')\n",
    "        self.apply_transformations(datatype='test')\n",
    "        \n",
    "    def get_feature_names(self):\n",
    "        # Helper function to get feature names from transformer\n",
    "        feature_names = list(self.data_transformer.named_transformers_['cat'].get_feature_names_out(self.categorical_features))\n",
    "        feature_names.extend(self.numerical_features)\n",
    "        return feature_names\n"
   ]
  },
  {
   "cell_type": "code",
   "execution_count": 71,
   "id": "0918dd03",
   "metadata": {},
   "outputs": [],
   "source": [
    "info = {\n",
    "    'random_state':42,\n",
    "    'binary_classification':True,\n",
    "    'test_size':0.01,\n",
    "    'balancing_method':None,\n",
    "    'RCS': {\n",
    "        'T': 0.1,\n",
    "        'num_samples': 100000,\n",
    "    },\n",
    "    'apply_scaler':True,\n",
    "    'apply_pca': False,\n",
    "    'pca_components':10,\n",
    "    'apply_onehot':False,\n",
    "}\n",
    "# \n",
    "# undersampling does not work with binary classification!"
   ]
  },
  {
   "cell_type": "code",
   "execution_count": 72,
   "id": "QS_gn7o8sQSV",
   "metadata": {
    "executionInfo": {
     "elapsed": 259242,
     "status": "ok",
     "timestamp": 1714416729600,
     "user": {
      "displayName": "Ioanna Malli",
      "userId": "18411502183220972552"
     },
     "user_tz": -180
    },
    "id": "QS_gn7o8sQSV",
    "scrolled": true
   },
   "outputs": [],
   "source": [
    "data = ModelPreprocessor(inputs, info)\n",
    "data.ModelPreprocessorPipeline()"
   ]
  },
  {
   "cell_type": "code",
   "execution_count": 73,
   "id": "11bc1e61",
   "metadata": {},
   "outputs": [
    {
     "data": {
      "text/plain": [
       "(24, 24, 24)"
      ]
     },
     "execution_count": 73,
     "metadata": {},
     "output_type": "execute_result"
    }
   ],
   "source": [
    "len(data.data.columns), len(data.train_data.columns), len(data.test_data.columns)"
   ]
  },
  {
   "cell_type": "code",
   "execution_count": 74,
   "id": "6e8eda0c",
   "metadata": {},
   "outputs": [
    {
     "data": {
      "text/plain": [
       "(242113, 239691, 2422)"
      ]
     },
     "execution_count": 74,
     "metadata": {},
     "output_type": "execute_result"
    }
   ],
   "source": [
    "len(data.labels), len(data.train_labels), len(data.test_labels)"
   ]
  },
  {
   "cell_type": "code",
   "execution_count": 75,
   "id": "211ac305",
   "metadata": {},
   "outputs": [
    {
     "data": {
      "text/plain": [
       "(array([0, 1], dtype=int64), array([201585,  38106], dtype=int64))"
      ]
     },
     "execution_count": 75,
     "metadata": {},
     "output_type": "execute_result"
    }
   ],
   "source": [
    "np.unique(data.train_labels, return_counts=True)"
   ]
  },
  {
   "cell_type": "code",
   "execution_count": 76,
   "id": "dd765612",
   "metadata": {},
   "outputs": [
    {
     "data": {
      "text/plain": [
       "(array([0, 1], dtype=int64), array([2037,  385], dtype=int64))"
      ]
     },
     "execution_count": 76,
     "metadata": {},
     "output_type": "execute_result"
    }
   ],
   "source": [
    "np.unique(data.test_labels, return_counts=True)"
   ]
  },
  {
   "cell_type": "markdown",
   "id": "20d5f1f5",
   "metadata": {
    "id": "20d5f1f5"
   },
   "source": [
    "# Model training"
   ]
  },
  {
   "cell_type": "markdown",
   "id": "42541040",
   "metadata": {
    "id": "42541040"
   },
   "source": [
    "## Classifiers"
   ]
  },
  {
   "cell_type": "code",
   "execution_count": 12,
   "id": "e5935761",
   "metadata": {
    "id": "e5935761"
   },
   "outputs": [],
   "source": [
    "class BaseClassifier:\n",
    "    def __init__(self, data_object, random_state=42):\n",
    "        self.random_state = random_state\n",
    "        self.model = None\n",
    "        self.data = data_object\n",
    "\n",
    "    def model_pipeline(self, report=False, fi=False, cm=False):\n",
    "        self.create_model()\n",
    "#       self.train_data, self.train_labels, self.test_data, self.test_labels = self.preprocessor.fit_transform()\n",
    "        self.train()\n",
    "        if report:\n",
    "            self.generate_classification_report()\n",
    "        if fi and hasattr(self, 'feature_importance'):\n",
    "            self.feature_importance()\n",
    "        if cm:\n",
    "            self.plot_confusion_matrix()\n",
    "\n",
    "    def create_model(self):\n",
    "        raise NotImplementedError(\"This method should be overridden by subclasses\")\n",
    "\n",
    "    def train(self):\n",
    "        print(\"calling training\")\n",
    "        if self.model is not None:\n",
    "            self.model.fit(self.data.train_data, self.data.train_labels)\n",
    "        else:\n",
    "          print(\"model is None \")\n",
    "\n",
    "    def generate_classification_report(self):\n",
    "#         if self.model is not None:\n",
    "        predictions = self.model.predict(self.data.test_data)\n",
    "        print(classification_report(self.data.test_labels, predictions))\n",
    "\n",
    "    def plot_confusion_matrix(self):\n",
    "#         if self.model is not None:\n",
    "        y_pred = self.model.predict(self.data.test_data)\n",
    "        cm = confusion_matrix(self.data.test_labels, y_pred)\n",
    "        disp = ConfusionMatrixDisplay(confusion_matrix=cm)\n",
    "        disp.plot(cmap=plt.cm.Blues)\n",
    "        plt.show()\n"
   ]
  },
  {
   "cell_type": "code",
   "execution_count": 13,
   "id": "92b952f0",
   "metadata": {
    "id": "92b952f0"
   },
   "outputs": [],
   "source": [
    "class RandomForestModel(BaseClassifier):\n",
    "    def __init__(self, data_object, random_state=42):\n",
    "        super().__init__(data_object, random_state)\n",
    "\n",
    "    def create_model(self):\n",
    "        self.model = RandomForestClassifier(random_state=self.random_state)\n",
    "\n",
    "    def feature_importance(self):\n",
    "        if self.model is not None:\n",
    "            importance = self.model.feature_importances_\n",
    "            features = self.data.train_data.columns\n",
    "\n",
    "            indices = np.argsort(importance)\n",
    "            sorted_importance = np.take(importance, indices, axis=0)\n",
    "            sorted_features = np.take(features, indices, axis=0)\n",
    "\n",
    "            plt.figure(figsize=(5,5))\n",
    "            plt.barh(range(len(sorted_importance)), sorted_importance, align='center')\n",
    "            plt.yticks(range(len(sorted_importance)), sorted_features)\n",
    "            plt.xlabel('Feature Importance')\n",
    "            plt.ylabel('Feature')\n",
    "            plt.show()\n"
   ]
  },
  {
   "cell_type": "code",
   "execution_count": 14,
   "id": "d362ff17",
   "metadata": {
    "id": "d362ff17"
   },
   "outputs": [],
   "source": [
    "class XGBoostModel(BaseClassifier):\n",
    "    def __init__(self, data_object, random_state=42):\n",
    "        super().__init__(data_object, random_state)\n",
    "\n",
    "    def create_model(self):\n",
    "        self.model = XGBClassifier(random_state=self.random_state)\n",
    "\n",
    "    def feature_importance(self):\n",
    "        if self.model is not None:\n",
    "            importance = self.model.feature_importances_\n",
    "            features = self.data.train_data.columns\n",
    "\n",
    "            indices = np.argsort(importance)\n",
    "            sorted_importance = np.take(importance, indices, axis=0)\n",
    "            sorted_features = np.take(features, indices, axis=0)\n",
    "\n",
    "            plt.figure(figsize=(6, 6))\n",
    "            plt.barh(range(len(sorted_importance)), sorted_importance, align='center')\n",
    "            plt.yticks(range(len(sorted_importance)), sorted_features)\n",
    "            plt.xlabel('Feature Importance')\n",
    "            plt.ylabel('Feature')\n",
    "            plt.show()\n"
   ]
  },
  {
   "cell_type": "code",
   "execution_count": 15,
   "id": "114ea9aa",
   "metadata": {
    "id": "114ea9aa"
   },
   "outputs": [],
   "source": [
    "class LogisticRegressionModel(BaseClassifier):\n",
    "    def __init__(self, data_object, random_state=42):\n",
    "        super().__init__(data_object, random_state)\n",
    "\n",
    "    def create_model(self):\n",
    "        self.model = LogisticRegression(random_state=self.random_state)"
   ]
  },
  {
   "cell_type": "code",
   "execution_count": 16,
   "id": "b35d527f",
   "metadata": {
    "id": "b35d527f"
   },
   "outputs": [],
   "source": [
    "class BalancedRandomForestModel(BaseClassifier):\n",
    "    def __init__(self, data_object, random_state=42):\n",
    "        super().__init__(data_object, random_state)\n",
    "\n",
    "    def create_model(self):\n",
    "        self.model = BalancedRandomForestClassifier(random_state=self.random_state)\n",
    "\n",
    "    def feature_importance(self):\n",
    "        if self.model is not None:\n",
    "            importance = self.model.feature_importances_\n",
    "            features = self.data.train_data.columns\n",
    "\n",
    "            indices = np.argsort(importance)\n",
    "            sorted_importance = np.take(importance, indices, axis=0)\n",
    "            sorted_features = np.take(features, indices, axis=0)\n",
    "\n",
    "            plt.figure(figsize=(5,5))\n",
    "            plt.barh(range(len(sorted_importance)), sorted_importance, align='center')\n",
    "            plt.yticks(range(len(sorted_importance)), sorted_features)\n",
    "            plt.xlabel('Feature Importance')\n",
    "            plt.ylabel('Feature')\n",
    "            plt.show()"
   ]
  },
  {
   "cell_type": "markdown",
   "id": "20049259",
   "metadata": {
    "id": "20049259"
   },
   "source": [
    "## Implementations"
   ]
  },
  {
   "cell_type": "code",
   "execution_count": 17,
   "id": "497f163f",
   "metadata": {
    "colab": {
     "base_uri": "https://localhost:8080/",
     "height": 391
    },
    "executionInfo": {
     "elapsed": 3171704,
     "status": "error",
     "timestamp": 1714341346967,
     "user": {
      "displayName": "Ioanna Malli",
      "userId": "18411502183220972552"
     },
     "user_tz": -180
    },
    "id": "497f163f",
    "outputId": "63dee0b0-072d-41b9-a85e-3a344a616ccc"
   },
   "outputs": [
    {
     "name": "stdout",
     "output_type": "stream",
     "text": [
      "calling training\n",
      "              precision    recall  f1-score   support\n",
      "\n",
      "           0       0.94      0.82      0.88      2037\n",
      "           1       0.00      0.00      0.00        58\n",
      "           2       0.40      0.76      0.52       327\n",
      "\n",
      "    accuracy                           0.80      2422\n",
      "   macro avg       0.44      0.53      0.47      2422\n",
      "weighted avg       0.84      0.80      0.81      2422\n",
      "\n"
     ]
    },
    {
     "data": {
      "image/png": "[encoded data removed]",
      "text/plain": [
       "<Figure size 500x500 with 1 Axes>"
      ]
     },
     "metadata": {},
     "output_type": "display_data"
    },
    {
     "data": {
      "image/png": "[encoded data removed]",
      "text/plain": [
       "<Figure size 640x480 with 2 Axes>"
      ]
     },
     "metadata": {},
     "output_type": "display_data"
    },
    {
     "name": "stdout",
     "output_type": "stream",
     "text": [
      "CPU times: total: 4.52 s\n",
      "Wall time: 20.1 s\n"
     ]
    }
   ],
   "source": [
    "%%time\n",
    "rf1 = RandomForestModel(data) \n",
    "rf1.model_pipeline(report=True, fi=True, cm=True)"
   ]
  },
  {
   "cell_type": "code",
   "execution_count": 24,
   "id": "7259ca0b",
   "metadata": {},
   "outputs": [
    {
     "data": {
      "text/plain": [
       "array([0, 1, 1])"
      ]
     },
     "execution_count": 24,
     "metadata": {},
     "output_type": "execute_result"
    }
   ],
   "source": [
    "labels = np.array([0,1,2])\n",
    "labels[labels == 2] = 1\n",
    "labels"
   ]
  },
  {
   "cell_type": "code",
   "execution_count": null,
   "id": "66288589",
   "metadata": {},
   "outputs": [],
   "source": []
  }
 ],
 "metadata": {
  "kernelspec": {
   "display_name": "edemm",
   "language": "python",
   "name": "myenv"
  },
  "language_info": {
   "codemirror_mode": {
    "name": "ipython",
    "version": 3
   },
   "file_extension": ".py",
   "mimetype": "text/x-python",
   "name": "python",
   "nbconvert_exporter": "python",
   "pygments_lexer": "ipython3",
   "version": "3.9.18"
  }
 },
 "nbformat": 4,
 "nbformat_minor": 5
}
