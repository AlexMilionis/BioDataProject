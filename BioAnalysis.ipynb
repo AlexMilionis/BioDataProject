{
 "cells": [
  {
   "cell_type": "markdown",
   "id": "0fb21ca4",
   "metadata": {
    "heading_collapsed": true
   },
   "source": [
    "# TODO"
   ]
  },
  {
   "cell_type": "markdown",
   "id": "746896fc",
   "metadata": {
    "hidden": true
   },
   "source": [
    "- EDA (correlation matrix) ; fouskakis \n",
    "- Feature extraction\n",
    "- try classifiers \n",
    "- grid search -> find best \n",
    "- further research -> kaggle notebooks\n",
    "\n",
    "Links<br>\n",
    "https://archive.ics.uci.edu/dataset/891/cdc+diabetes+health+indicators\n",
    "\n",
    "https://www.kaggle.com/datasets/alexteboul/diabetes-health-indicators-dataset\n",
    "\n",
    "https://www.cdc.gov/brfss/annual_data/2015/pdf/codebook15_llcp.pdf\n",
    "\n",
    "https://www.kaggle.com/datasets/cdc/behavioral-risk-factor-surveillance-system/data\n",
    "\n",
    "https://www.cdc.gov/pcd/issues/2019/19_0109.htm\n",
    "\n",
    "https://www.kaggle.com/code/alexteboul/diabetes-health-indicators-dataset-notebook"
   ]
  },
  {
   "cell_type": "markdown",
   "id": "5d96139c",
   "metadata": {
    "heading_collapsed": true
   },
   "source": [
    "# Imports"
   ]
  },
  {
   "cell_type": "code",
   "execution_count": 95,
   "id": "1fb2ee70",
   "metadata": {
    "hidden": true
   },
   "outputs": [],
   "source": [
    "import pandas as pd\n",
    "import numpy as np\n",
    "from ucimlrepo import fetch_ucirepo \n",
    "from sklearn.ensemble import RandomForestClassifier\n",
    "from sklearn.model_selection import train_test_split\n",
    "from sklearn.metrics import classification_report\n",
    "from sklearn.linear_model import LogisticRegression\n",
    "from sklearn.pipeline import Pipeline\n",
    "from sklearn.base import TransformerMixin, BaseEstimator\n",
    "import matplotlib.pyplot as plt"
   ]
  },
  {
   "cell_type": "code",
   "execution_count": 2,
   "id": "77280cbe",
   "metadata": {
    "hidden": true
   },
   "outputs": [],
   "source": [
    "path = 'Data/'\n",
    "RAND_STATE = 42"
   ]
  },
  {
   "cell_type": "code",
   "execution_count": 3,
   "id": "7b8902bb",
   "metadata": {
    "hidden": true
   },
   "outputs": [],
   "source": [
    "inputs = pd.read_csv(path + 'diabetes_012_health_indicators_BRFSS2015.csv')"
   ]
  },
  {
   "cell_type": "markdown",
   "id": "e23d044e",
   "metadata": {
    "hidden": true
   },
   "source": [
    "0: no diabetes\n",
    "1: prediabetes\n",
    "2: diabetes"
   ]
  },
  {
   "cell_type": "markdown",
   "id": "23e92be3",
   "metadata": {},
   "source": [
    "# Preprocessing"
   ]
  },
  {
   "cell_type": "code",
   "execution_count": 45,
   "id": "1342b873",
   "metadata": {},
   "outputs": [],
   "source": [
    "class preprocessing():\n",
    "    \n",
    "    def __init__(self, raw):\n",
    "        self.data = raw.copy()\n",
    "        self.label_name = 'Diabetes_012'\n",
    "        \n",
    "    def convert_type(self):\n",
    "        for col in self.data:\n",
    "            self.data[col] = self.data[col].astype(int)\n",
    "            \n",
    "    def extract_labels(self):\n",
    "        self.labels = self.data[[self.label_name]].to_numpy().flatten()\n",
    "        \n",
    "    def class_frequencies(self):\n",
    "        _ , self.class_samples = np.unique(self.labels, return_counts=True)\n",
    "        self.class_freq = self.class_samples/len(self.data)\n",
    "#         if as_pct==True:\n",
    "#             print(self.class_freq)\n",
    "#         else:\n",
    "#             print(self.class_samples)\n",
    "    \n",
    "    def remove_labels(self):\n",
    "        self.data.drop([self.label_name], axis=1, inplace=True)\n",
    "    \n",
    "    def resample(self, T, num_samples):\n",
    "        self.extract_labels()\n",
    "        self.class_frequencies() \n",
    "        probs = np.exp((1 - self.class_freq) / T)\n",
    "        probs /= probs.sum()\n",
    "        self.data['sample_weight'] = self.data[self.label_name].map({0: probs[0], 1: probs[1], 2: probs[2]})\n",
    "        self.data = self.data.sample(n=num_samples, replace=False, weights='sample_weight', random_state=RAND_STATE)\n",
    "        self.data.drop(['sample_weight'], axis=1, inplace=True)\n",
    "        \n",
    "     # SMOTE \n",
    "        \n",
    "    def equalize(self):\n",
    "        tmp1 = self.data[self.data[self.label_name]==0].sample(n=4631, replace=False, random_state=RAND_STATE)\n",
    "        tmp2 = self.data[self.data[self.label_name]==1].sample(n=4631, replace=False, random_state=RAND_STATE)\n",
    "        tmp3 = self.data[self.data[self.label_name]==2].sample(n=4631, replace=False, random_state=RAND_STATE)\n",
    "        self.data = pd.concat([tmp1, tmp2, tmp3]).sample(frac=1, random_state = RAND_STATE)\n"
   ]
  },
  {
   "cell_type": "code",
   "execution_count": 46,
   "id": "0f7ff769",
   "metadata": {},
   "outputs": [],
   "source": [
    "def preprocessing_pipeline(resample, equalize, T=0.1, n_samples=50000):\n",
    "    obj = preprocessing(inputs)\n",
    "    obj.convert_type()\n",
    "    if resample:\n",
    "        obj.resample(T, n_samples)\n",
    "    if equalize:\n",
    "        obj.equalize()    \n",
    "    obj.extract_labels()\n",
    "    obj.class_frequencies()\n",
    "    obj.remove_labels()\n",
    "    return obj"
   ]
  },
  {
   "cell_type": "code",
   "execution_count": 6,
   "id": "b665fbb7",
   "metadata": {},
   "outputs": [],
   "source": [
    "without_resampling = preprocessing_pipeline(resample=False)"
   ]
  },
  {
   "cell_type": "code",
   "execution_count": 37,
   "id": "1ca511a0",
   "metadata": {},
   "outputs": [],
   "source": [
    "with_resampling = preprocessing_pipeline(resample=True, T=0.1, n_samples=50000)"
   ]
  },
  {
   "cell_type": "code",
   "execution_count": 47,
   "id": "c3ca36fb",
   "metadata": {},
   "outputs": [],
   "source": [
    "equalized = preprocessing_pipeline(resample=False, equalize = True)"
   ]
  },
  {
   "cell_type": "markdown",
   "id": "578d1e50",
   "metadata": {
    "heading_collapsed": true
   },
   "source": [
    "# Feature importances"
   ]
  },
  {
   "cell_type": "code",
   "execution_count": 102,
   "id": "48903bbe",
   "metadata": {
    "hidden": true,
    "scrolled": true
   },
   "outputs": [],
   "source": [
    "def feature_importance(classifier):\n",
    "    \n",
    "    importance = classifier.clf.feature_importances_\n",
    "    features   = classifier.train_data.columns.tolist()\n",
    "    plt.figure(figsize=(10, 6))\n",
    "    plt.barh(range(len(importance)), importance, align='center')\n",
    "    plt.yticks(range(len(importance)), features)  # Assuming 'features' is a list of feature names\n",
    "    plt.xlabel('Feature Importance')\n",
    "    plt.ylabel('Feature')\n",
    "    plt.title('Feature Importances')\n",
    "    plt.show()"
   ]
  },
  {
   "cell_type": "markdown",
   "id": "20d5f1f5",
   "metadata": {},
   "source": [
    "# Random Forest Classifier"
   ]
  },
  {
   "cell_type": "code",
   "execution_count": 59,
   "id": "222a7c9c",
   "metadata": {},
   "outputs": [],
   "source": [
    "class random_forest:\n",
    "    def __init__(self, data, labels):\n",
    "        self.data = data\n",
    "        self.labels = labels\n",
    "#         self.train_data = None\n",
    "#         self.test_data = None\n",
    "#         self.train_labels = None\n",
    "#         self.test_labels = None\n",
    "        \n",
    "    def split(self, test_size):\n",
    "        train_data, test_data, train_labels, test_labels = train_test_split(self.data, \n",
    "                                                                        self.labels,\n",
    "                                                                        test_size = test_size,\n",
    "                                                                        random_state = RAND_STATE,\n",
    "                                                                        stratify=self.labels)\n",
    "        self.train_data = train_data\n",
    "        self.test_data = test_data\n",
    "        self.train_labels = train_labels\n",
    "        self.test_labels = test_labels\n",
    "    \n",
    "    def train_clf(self):\n",
    "        self.clf = RandomForestClassifier(random_state=RAND_STATE)\n",
    "        self.clf.fit(self.train_data, self.train_labels)\n",
    "        \n",
    "    def predict(self):\n",
    "        self.clf.score(self.test_data, self.test_labels)\n",
    "        \n",
    "    def classification_report(self):\n",
    "        print(classification_report(self.test_labels, self.clf.predict(self.test_data)))\n",
    "        "
   ]
  },
  {
   "cell_type": "code",
   "execution_count": 60,
   "id": "497f163f",
   "metadata": {},
   "outputs": [
    {
     "name": "stdout",
     "output_type": "stream",
     "text": [
      "              precision    recall  f1-score   support\n",
      "\n",
      "           0       0.86      0.97      0.91     42741\n",
      "           1       0.00      0.00      0.00       926\n",
      "           2       0.49      0.20      0.28      7069\n",
      "\n",
      "    accuracy                           0.84     50736\n",
      "   macro avg       0.45      0.39      0.40     50736\n",
      "weighted avg       0.80      0.84      0.81     50736\n",
      "\n"
     ]
    }
   ],
   "source": [
    "rf1 = random_forest(without_resampling.data, without_resampling.labels)\n",
    "rf1.split(test_size=0.2)\n",
    "rf1.train_clf()\n",
    "rf1.classification_report()"
   ]
  },
  {
   "cell_type": "code",
   "execution_count": 61,
   "id": "2ab5a28a",
   "metadata": {},
   "outputs": [
    {
     "name": "stdout",
     "output_type": "stream",
     "text": [
      "              precision    recall  f1-score   support\n",
      "\n",
      "           0       0.65      0.44      0.52      2005\n",
      "           1       0.06      0.00      0.01       926\n",
      "           2       0.78      0.94      0.85      7069\n",
      "\n",
      "    accuracy                           0.76     10000\n",
      "   macro avg       0.50      0.46      0.46     10000\n",
      "weighted avg       0.69      0.76      0.71     10000\n",
      "\n"
     ]
    }
   ],
   "source": [
    "rf2 = random_forest(with_resampling.data, with_resampling.labels)\n",
    "rf2.split(test_size=0.2)\n",
    "rf2.train_clf()\n",
    "rf2.classification_report()"
   ]
  },
  {
   "cell_type": "code",
   "execution_count": 62,
   "id": "3b06503d",
   "metadata": {
    "scrolled": true
   },
   "outputs": [
    {
     "name": "stdout",
     "output_type": "stream",
     "text": [
      "              precision    recall  f1-score   support\n",
      "\n",
      "           0       0.58      0.57      0.57       926\n",
      "           1       0.40      0.37      0.38       926\n",
      "           2       0.47      0.52      0.49       927\n",
      "\n",
      "    accuracy                           0.48      2779\n",
      "   macro avg       0.48      0.48      0.48      2779\n",
      "weighted avg       0.48      0.48      0.48      2779\n",
      "\n"
     ]
    }
   ],
   "source": [
    "rf3 = random_forest(equalized.data, equalized.labels)\n",
    "rf3.split(test_size=0.2)\n",
    "rf3.train_clf()\n",
    "rf3.classification_report()"
   ]
  },
  {
   "cell_type": "code",
   "execution_count": 103,
   "id": "ce20b668",
   "metadata": {},
   "outputs": [
    {
     "data": {
      "image/png": "[encoded data removed]",
      "text/plain": [
       "<Figure size 1000x600 with 1 Axes>"
      ]
     },
     "metadata": {},
     "output_type": "display_data"
    }
   ],
   "source": [
    "feature_importance(rf3)"
   ]
  },
  {
   "cell_type": "markdown",
   "id": "af2e0dd7",
   "metadata": {},
   "source": [
    "# Gradient Boosting"
   ]
  },
  {
   "cell_type": "code",
   "execution_count": 69,
   "id": "372c0912",
   "metadata": {},
   "outputs": [],
   "source": [
    "class gradient_boosting:\n",
    "    def __init__(self, data, labels):\n",
    "        self.data = data\n",
    "        self.labels = labels\n",
    "#         self.train_data = None\n",
    "#         self.test_data = None\n",
    "#         self.train_labels = None\n",
    "#         self.test_labels = None\n",
    "        \n",
    "    def split(self, test_size):\n",
    "        train_data, test_data, train_labels, test_labels = train_test_split(self.data, \n",
    "                                                                        self.labels,\n",
    "                                                                        test_size = test_size,\n",
    "                                                                        random_state = RAND_STATE,\n",
    "                                                                        stratify=self.labels)\n",
    "        self.train_data = train_data\n",
    "        self.test_data = test_data\n",
    "        self.train_labels = train_labels\n",
    "        self.test_labels = test_labels\n",
    "    \n",
    "    def train_clf(self):\n",
    "        self.clf = GradientBoostingClassifier(random_state=RAND_STATE, class_weights={0:0.5, 1:3, 2:1})\n",
    "        self.clf.fit(self.train_data, self.train_labels)\n",
    "        \n",
    "    def predict(self):\n",
    "        self.clf.score(self.test_data, self.test_labels)\n",
    "        \n",
    "    def classification_report(self):\n",
    "        print(classification_report(self.test_labels, self.clf.predict(self.test_data)))"
   ]
  },
  {
   "cell_type": "code",
   "execution_count": 70,
   "id": "d95458f9",
   "metadata": {},
   "outputs": [
    {
     "name": "stdout",
     "output_type": "stream",
     "text": [
      "              precision    recall  f1-score   support\n",
      "\n",
      "           0       0.86      0.97      0.91     42741\n",
      "           1       0.00      0.00      0.00       926\n",
      "           2       0.49      0.20      0.28      7069\n",
      "\n",
      "    accuracy                           0.84     50736\n",
      "   macro avg       0.45      0.39      0.40     50736\n",
      "weighted avg       0.80      0.84      0.81     50736\n",
      "\n"
     ]
    }
   ],
   "source": [
    "gb1 = random_forest(without_resampling.data, without_resampling.labels)\n",
    "gb1.split(test_size=0.2)\n",
    "gb1.train_clf()\n",
    "gb1.classification_report()"
   ]
  },
  {
   "cell_type": "code",
   "execution_count": 71,
   "id": "814448c4",
   "metadata": {},
   "outputs": [
    {
     "name": "stdout",
     "output_type": "stream",
     "text": [
      "              precision    recall  f1-score   support\n",
      "\n",
      "           0       0.65      0.44      0.52      2005\n",
      "           1       0.06      0.00      0.01       926\n",
      "           2       0.78      0.94      0.85      7069\n",
      "\n",
      "    accuracy                           0.76     10000\n",
      "   macro avg       0.50      0.46      0.46     10000\n",
      "weighted avg       0.69      0.76      0.71     10000\n",
      "\n"
     ]
    }
   ],
   "source": [
    "gb2 = random_forest(with_resampling.data, with_resampling.labels)\n",
    "gb2.split(test_size=0.2)\n",
    "gb2.train_clf()\n",
    "gb2.classification_report()"
   ]
  },
  {
   "cell_type": "code",
   "execution_count": 72,
   "id": "e037a991",
   "metadata": {},
   "outputs": [
    {
     "name": "stdout",
     "output_type": "stream",
     "text": [
      "              precision    recall  f1-score   support\n",
      "\n",
      "           0       0.58      0.57      0.57       926\n",
      "           1       0.40      0.37      0.38       926\n",
      "           2       0.47      0.52      0.49       927\n",
      "\n",
      "    accuracy                           0.48      2779\n",
      "   macro avg       0.48      0.48      0.48      2779\n",
      "weighted avg       0.48      0.48      0.48      2779\n",
      "\n"
     ]
    }
   ],
   "source": [
    "gb3 = random_forest(equalized.data, equalized.labels)\n",
    "gb3.split(test_size=0.2)\n",
    "gb3.train_clf()\n",
    "gb3.classification_report()"
   ]
  },
  {
   "cell_type": "code",
   "execution_count": 104,
   "id": "5eccbb61",
   "metadata": {},
   "outputs": [
    {
     "data": {
      "image/png": "[encoded data removed]",
      "text/plain": [
       "<Figure size 1000x600 with 1 Axes>"
      ]
     },
     "metadata": {},
     "output_type": "display_data"
    }
   ],
   "source": [
    "feature_importance(gb3)"
   ]
  },
  {
   "cell_type": "markdown",
   "id": "ebdcf0df",
   "metadata": {},
   "source": [
    "# TODO"
   ]
  },
  {
   "cell_type": "markdown",
   "id": "359340f5",
   "metadata": {},
   "source": [
    "1. Add more columns from original unprocessed dataset\n",
    "2. Explore classifiers\n",
    "3. Explore ways to balance data\n",
    "4. EDA\n",
    "5. feature importance analysis / model explainability\n",
    "6. "
   ]
  },
  {
   "cell_type": "code",
   "execution_count": 105,
   "id": "90923415",
   "metadata": {},
   "outputs": [
    {
     "data": {
      "text/plain": [
       "Index(['Diabetes_012', 'HighBP', 'HighChol', 'CholCheck', 'BMI', 'Smoker',\n",
       "       'Stroke', 'HeartDiseaseorAttack', 'PhysActivity', 'Fruits', 'Veggies',\n",
       "       'HvyAlcoholConsump', 'AnyHealthcare', 'NoDocbcCost', 'GenHlth',\n",
       "       'MentHlth', 'PhysHlth', 'DiffWalk', 'Sex', 'Age', 'Education',\n",
       "       'Income'],\n",
       "      dtype='object')"
      ]
     },
     "execution_count": 105,
     "metadata": {},
     "output_type": "execute_result"
    }
   ],
   "source": [
    "inputs.columns"
   ]
  },
  {
   "cell_type": "code",
   "execution_count": null,
   "id": "88724cf0",
   "metadata": {},
   "outputs": [],
   "source": []
  }
 ],
 "metadata": {
  "kernelspec": {
   "display_name": "edemm",
   "language": "python",
   "name": "myenv"
  },
  "language_info": {
   "codemirror_mode": {
    "name": "ipython",
    "version": 3
   },
   "file_extension": ".py",
   "mimetype": "text/x-python",
   "name": "python",
   "nbconvert_exporter": "python",
   "pygments_lexer": "ipython3",
   "version": "3.9.18"
  }
 },
 "nbformat": 4,
 "nbformat_minor": 5
}
